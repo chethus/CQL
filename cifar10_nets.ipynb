{
 "cells": [
  {
   "cell_type": "code",
   "execution_count": 1,
   "metadata": {},
   "outputs": [
    {
     "name": "stdout",
     "output_type": "stream",
     "text": [
      "Files already downloaded and verified\n",
      "Files already downloaded and verified\n"
     ]
    }
   ],
   "source": [
    "import torch\n",
    "import torchvision\n",
    "import torchvision.transforms as transforms\n",
    "from collections import defaultdict\n",
    "import pickle as pkl\n",
    "import datetime\n",
    "import torch.nn as nn\n",
    "import torch.nn.functional as F\n",
    "import torch.optim as optim\n",
    "import numpy as np\n",
    "from models.resnet import ResNet18\n",
    "\n",
    "def get_device():\n",
    "    return 'cuda' if torch.cuda.is_available() else 'cpu'\n",
    "\n",
    "transform = transforms.Compose([\n",
    "    transforms.ToTensor(),\n",
    "    transforms.Normalize((0.5,)*3, (0.5,)*3)\n",
    "])\n",
    "\n",
    "batch_size = 8\n",
    "\n",
    "trainset = torchvision.datasets.CIFAR10(root='./data', train=True,\n",
    "    download=True, transform=transform)\n",
    "trainloader = torch.utils.data.DataLoader(trainset, batch_size=batch_size,\n",
    "    shuffle=True, num_workers=2)\n",
    "testset = torchvision.datasets.CIFAR10(root='./data', train=False,\n",
    "    download=True, transform=transform)\n",
    "testloader = torch.utils.data.DataLoader(testset, batch_size=batch_size,\n",
    "    shuffle=False, num_workers=2)\n",
    "\n",
    "classes = ('plane', 'car', 'bird', 'cat',\n",
    "    'deer', 'dog', 'frog', 'horse', 'ship', 'truck')"
   ]
  },
  {
   "cell_type": "code",
   "execution_count": 2,
   "metadata": {},
   "outputs": [],
   "source": [
    "def train_model(model, trainloader, epochs=10, lr=1e-3, momentum=.9):\n",
    "    \"\"\"\n",
    "    Train a model on CIFAR-10 using the PyTorch Module API and prints model \n",
    "    accuracies during training.\n",
    "    \n",
    "    Inputs:\n",
    "    - model: A PyTorch Module giving the model to train.\n",
    "    - optimizer: An Optimizer object we will use to train the model\n",
    "    - epochs: (Optional) A Python integer giving the number of epochs to train for\n",
    "    \n",
    "    Returns: Lists of validation accuracies at the end of each epoch.\n",
    "    \"\"\"\n",
    "    device = get_device()\n",
    "    model = model.to(device)  # move the model parameters to CPU/GPU\n",
    "    criterion = nn.CrossEntropyLoss()\n",
    "    optimizer = optim.SGD(model.parameters(), lr=lr, momentum=momentum)\n",
    "    for e in range(epochs):\n",
    "        for t, (x, y) in enumerate(trainloader):\n",
    "            model.train()  # put model to training mode\n",
    "            x = x.to(device)  # move to device, e.g. GPU\n",
    "            y = y.to(device)\n",
    "\n",
    "            scores = model(x)\n",
    "            loss = criterion(scores, y)\n",
    "\n",
    "            optimizer.zero_grad()\n",
    "            loss.backward()\n",
    "            optimizer.step()\n",
    "\n",
    "def eval_model(model, testloader):\n",
    "    device = get_device()\n",
    "\n",
    "    correct_pred = defaultdict(int)\n",
    "    total_pred = defaultdict(int)\n",
    "\n",
    "    with torch.no_grad():\n",
    "        for images, labels in testloader:\n",
    "            images, labels = images.to(device), labels.to(device)\n",
    "            outputs = model(images)\n",
    "            _, predictions = torch.max(outputs, 1)\n",
    "\n",
    "            for label, prediction in zip(labels, predictions):\n",
    "                if label == prediction:\n",
    "                    correct_pred[classes[label]] += 1\n",
    "                total_pred[classes[label]] += 1\n",
    "\n",
    "    for classname, correct_count in correct_pred.items():\n",
    "        accuracy = 100 * float(correct_count)/total_pred[classname]\n",
    "        print(f'Accuracy for class: {classname:5s} is accuracy {accuracy:.1f}%')\n",
    "\n",
    "def train_eval(model, trainloader, epochs=10, lr=1e-3, momentum=.9):\n",
    "    train_model(model, trainloader, epochs=epochs, lr=lr, momentum=momentum)\n",
    "    eval_model(model, testloader)\n",
    "\n",
    "def save_model(model, model_name):\n",
    "    date_str = datetime.datetime.now().strftime('%Y%m%d_%H%M%S')\n",
    "    with open(f'/media/3tb/chet/saved_models/{model_name}_{date_str}.pkl', 'wb') as f:\n",
    "        pkl.dump(model, f)"
   ]
  },
  {
   "cell_type": "code",
   "execution_count": 3,
   "metadata": {},
   "outputs": [],
   "source": [
    "def sequential_head():\n",
    "    return nn.Sequential(\n",
    "        nn.Conv2d(3, 6, 5),\n",
    "        nn.ReLU(),\n",
    "        nn.MaxPool2d(2, 2),\n",
    "        nn.Conv2d(6, 16, 5),\n",
    "        nn.ReLU(),\n",
    "        nn.MaxPool2d(2,2),\n",
    "        nn.Flatten(),\n",
    "        nn.Linear(16 * 5 * 5, 120),\n",
    "        nn.ReLU(),\n",
    "        nn.Linear(120, 84),\n",
    "        nn.ReLU(),\n",
    "        nn.Linear(84, 10)\n",
    "    )"
   ]
  },
  {
   "cell_type": "markdown",
   "metadata": {},
   "source": [
    "### Default Head ###"
   ]
  },
  {
   "cell_type": "code",
   "execution_count": 4,
   "metadata": {},
   "outputs": [
    {
     "name": "stdout",
     "output_type": "stream",
     "text": [
      "Accuracy for class: ship  is accuracy 70.3%\n",
      "Accuracy for class: plane is accuracy 72.2%\n",
      "Accuracy for class: frog  is accuracy 81.2%\n",
      "Accuracy for class: cat   is accuracy 31.6%\n",
      "Accuracy for class: car   is accuracy 78.6%\n",
      "Accuracy for class: truck is accuracy 72.0%\n",
      "Accuracy for class: dog   is accuracy 59.0%\n",
      "Accuracy for class: horse is accuracy 68.8%\n",
      "Accuracy for class: bird  is accuracy 50.9%\n",
      "Accuracy for class: deer  is accuracy 50.9%\n"
     ]
    }
   ],
   "source": [
    "seq_net = sequential_head()\n",
    "train_eval(seq_net, trainloader, epochs=10)\n"
   ]
  },
  {
   "cell_type": "code",
   "execution_count": 5,
   "metadata": {},
   "outputs": [],
   "source": [
    "save_model(seq_net, 'sequential_cifar')"
   ]
  },
  {
   "cell_type": "markdown",
   "metadata": {},
   "source": [
    "### ResNet18 ###"
   ]
  },
  {
   "cell_type": "code",
   "execution_count": 6,
   "metadata": {},
   "outputs": [
    {
     "name": "stdout",
     "output_type": "stream",
     "text": [
      "Accuracy for class: cat   is accuracy 68.7%\n",
      "Accuracy for class: ship  is accuracy 89.0%\n",
      "Accuracy for class: plane is accuracy 86.8%\n",
      "Accuracy for class: frog  is accuracy 86.4%\n",
      "Accuracy for class: car   is accuracy 92.9%\n",
      "Accuracy for class: truck is accuracy 87.5%\n",
      "Accuracy for class: dog   is accuracy 74.6%\n",
      "Accuracy for class: horse is accuracy 85.2%\n",
      "Accuracy for class: deer  is accuracy 80.5%\n",
      "Accuracy for class: bird  is accuracy 68.2%\n"
     ]
    }
   ],
   "source": [
    "resnet = ResNet18()\n",
    "train_eval(resnet, trainloader, epochs=10)"
   ]
  },
  {
   "cell_type": "code",
   "execution_count": 7,
   "metadata": {},
   "outputs": [],
   "source": [
    "save_model(resnet, 'resnet_cifar')"
   ]
  },
  {
   "cell_type": "markdown",
   "metadata": {},
   "source": [
    "### Timing ###"
   ]
  },
  {
   "cell_type": "code",
   "execution_count": 8,
   "metadata": {},
   "outputs": [
    {
     "name": "stdout",
     "output_type": "stream",
     "text": [
      "17.5 s ± 55.3 ms per loop (mean ± std. dev. of 2 runs, 5 loops each)\n"
     ]
    }
   ],
   "source": [
    "%timeit -n 5 -r 2 train_model(seq_net, trainloader, epochs=1)"
   ]
  },
  {
   "cell_type": "code",
   "execution_count": 9,
   "metadata": {},
   "outputs": [
    {
     "name": "stdout",
     "output_type": "stream",
     "text": [
      "1min 24s ± 807 ms per loop (mean ± std. dev. of 2 runs, 5 loops each)\n"
     ]
    }
   ],
   "source": [
    "%timeit -n 5 -r 2 train_model(resnet, trainloader, epochs=1)"
   ]
  },
  {
   "cell_type": "markdown",
   "metadata": {},
   "source": [
    "### Smaller Datasets ###"
   ]
  },
  {
   "cell_type": "code",
   "execution_count": 10,
   "metadata": {},
   "outputs": [],
   "source": [
    "class_idxs = np.vstack([np.nonzero(np.array(trainset.targets) == label)[0] for label in range(4)])"
   ]
  },
  {
   "cell_type": "code",
   "execution_count": 11,
   "metadata": {},
   "outputs": [],
   "source": [
    "def cifar_subset(dataset_size):\n",
    "    return torch.utils.data.Subset(trainset, class_idxs[:,:dataset_size//4].flatten())"
   ]
  },
  {
   "cell_type": "code",
   "execution_count": 12,
   "metadata": {},
   "outputs": [],
   "source": [
    "trainset100 = cifar_subset(100)\n",
    "trainloader100 = torch.utils.data.DataLoader(trainset100, batch_size=batch_size, shuffle=True, num_workers=2)\n",
    "\n",
    "trainset1000 = cifar_subset(1000)\n",
    "trainloader1000 = torch.utils.data.DataLoader(trainset1000, batch_size=batch_size, shuffle=True, num_workers=2)\n",
    "\n",
    "trainset10000 = cifar_subset(10000)\n",
    "trainloader10000 = torch.utils.data.DataLoader(trainset10000, batch_size=batch_size, shuffle=True, num_workers=2)"
   ]
  },
  {
   "cell_type": "code",
   "execution_count": 13,
   "metadata": {},
   "outputs": [
    {
     "name": "stdout",
     "output_type": "stream",
     "text": [
      "Accuracy for class: plane is accuracy 97.5%\n",
      "Accuracy for class: car   is accuracy 11.5%\n",
      "Accuracy for class: bird  is accuracy 0.3%\n"
     ]
    }
   ],
   "source": [
    "seq_net_100 = sequential_head()\n",
    "train_eval(seq_net_100, trainloader100, epochs=10)\n",
    "save_model(seq_net_100, 'sequential_cifar_100')"
   ]
  },
  {
   "cell_type": "code",
   "execution_count": 14,
   "metadata": {},
   "outputs": [
    {
     "name": "stdout",
     "output_type": "stream",
     "text": [
      "Accuracy for class: cat   is accuracy 61.6%\n",
      "Accuracy for class: plane is accuracy 60.7%\n",
      "Accuracy for class: bird  is accuracy 46.8%\n",
      "Accuracy for class: car   is accuracy 69.5%\n"
     ]
    }
   ],
   "source": [
    "seq_net_1000 = sequential_head()\n",
    "train_eval(seq_net_1000, trainloader1000, epochs=10)\n",
    "save_model(seq_net_1000, 'sequential_cifar_1000')"
   ]
  },
  {
   "cell_type": "code",
   "execution_count": 15,
   "metadata": {},
   "outputs": [
    {
     "name": "stdout",
     "output_type": "stream",
     "text": [
      "Accuracy for class: cat   is accuracy 72.3%\n",
      "Accuracy for class: plane is accuracy 78.2%\n",
      "Accuracy for class: car   is accuracy 85.9%\n",
      "Accuracy for class: bird  is accuracy 71.0%\n"
     ]
    }
   ],
   "source": [
    "seq_net_10000 = sequential_head()\n",
    "train_eval(seq_net_10000, trainloader10000, epochs=10)\n",
    "save_model(seq_net_10000, 'sequential_cifar_10000')"
   ]
  }
 ],
 "metadata": {
  "interpreter": {
   "hash": "31f2aee4e71d21fbe5cf8b01ff0e069b9275f58929596ceb00d14d90e3e16cd6"
  },
  "kernelspec": {
   "display_name": "Python 3.6.9 64-bit",
   "language": "python",
   "name": "python3"
  },
  "language_info": {
   "codemirror_mode": {
    "name": "ipython",
    "version": 3
   },
   "file_extension": ".py",
   "mimetype": "text/x-python",
   "name": "python",
   "nbconvert_exporter": "python",
   "pygments_lexer": "ipython3",
   "version": "3.8.12"
  },
  "orig_nbformat": 4
 },
 "nbformat": 4,
 "nbformat_minor": 2
}
